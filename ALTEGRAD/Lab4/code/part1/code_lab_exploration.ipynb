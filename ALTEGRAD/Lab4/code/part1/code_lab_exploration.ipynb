{
  "cells": [
    {
      "cell_type": "code",
      "execution_count": null,
      "id": "02607b4f",
      "metadata": {
        "id": "02607b4f"
      },
      "outputs": [],
      "source": [
        "\"\"\"\n",
        "Graph Mining - ALTEGRAD - Dec 2021\n",
        "\"\"\""
      ]
    },
    {
      "cell_type": "code",
      "execution_count": 2,
      "id": "9ef71126",
      "metadata": {
        "lines_to_next_cell": 2,
        "id": "9ef71126"
      },
      "outputs": [],
      "source": [
        "import networkx as nx\n",
        "import matplotlib.pyplot as plt\n",
        "import numpy as np"
      ]
    },
    {
      "cell_type": "markdown",
      "id": "403a9818",
      "metadata": {
        "id": "403a9818"
      },
      "source": [
        "############# Task 1"
      ]
    },
    {
      "cell_type": "code",
      "source": [
        "\n",
        "G = nx.read_edgelist(\"./CA-HepTh.txt\",comments=\"#\",delimiter = \"\\t\") \n",
        "\n",
        "print('G number of nodes :', nx.number_of_nodes(G))\n",
        "print('number of edges:',nx.number_of_edges(G))\n"
      ],
      "metadata": {
        "id": "faaa3e38",
        "colab": {
          "base_uri": "https://localhost:8080/"
        },
        "outputId": "1c0f2347-e892-44dd-cd36-d0b54767177e"
      },
      "id": "faaa3e38",
      "execution_count": 4,
      "outputs": [
        {
          "output_type": "stream",
          "name": "stdout",
          "text": [
            "G number of nodes : 9877\n",
            "number of edges: 25998\n"
          ]
        }
      ]
    },
    {
      "cell_type": "code",
      "source": [
        "nx.draw(G)"
      ],
      "metadata": {
        "colab": {
          "base_uri": "https://localhost:8080/",
          "height": 319
        },
        "id": "4nrvMyPZJLw8",
        "outputId": "6ab700fe-2b04-443d-c34d-5aa7d062524c"
      },
      "id": "4nrvMyPZJLw8",
      "execution_count": null,
      "outputs": [
        {
          "output_type": "display_data",
          "data": {
            "image/png": "[encoded data removed]",
            "text/plain": [
              "<Figure size 432x288 with 1 Axes>"
            ]
          },
          "metadata": {}
        }
      ]
    },
    {
      "cell_type": "markdown",
      "id": "188313b4",
      "metadata": {
        "id": "188313b4"
      },
      "source": [
        "############# Task 2"
      ]
    },
    {
      "cell_type": "code",
      "source": [
        "print(\"number of connected components :\",len(list(nx.connected_components(G))))\n",
        "largest_cc_nodes = max(nx.connected_components(G), key=len)\n",
        "largest_cc = nx.subgraph(G,largest_cc)\n",
        "print(\"number of nodes of largest connected component :\",len(largest_cc_nodes))\n",
        "print(\"number of edges of largest connected component :\",len(largest_cc_gr.edges))"
      ],
      "metadata": {
        "colab": {
          "base_uri": "https://localhost:8080/"
        },
        "id": "qUvlKy_2hlAF",
        "outputId": "bf224d67-1052-4b30-e72e-11e44b7ecb71"
      },
      "id": "qUvlKy_2hlAF",
      "execution_count": null,
      "outputs": [
        {
          "output_type": "stream",
          "name": "stdout",
          "text": [
            "number of connected components : 429\n",
            "number of nodes of largest connected component : 8638\n",
            "number of edges of largest connected component : 24827\n"
          ]
        }
      ]
    },
    {
      "cell_type": "markdown",
      "id": "c4858293",
      "metadata": {
        "id": "c4858293"
      },
      "source": [
        "#################\n",
        "your code here #\n",
        "#################"
      ]
    },
    {
      "cell_type": "code",
      "execution_count": null,
      "id": "0e95eee0",
      "metadata": {
        "id": "0e95eee0"
      },
      "outputs": [],
      "source": [
        "############## Task 3\n",
        "# Degree\n",
        "degree_sequence = [G.degree(node) for node in G.nodes()]"
      ]
    },
    {
      "cell_type": "code",
      "execution_count": null,
      "id": "73a37ddf",
      "metadata": {
        "colab": {
          "base_uri": "https://localhost:8080/"
        },
        "id": "73a37ddf",
        "outputId": "137d4a47-2109-407d-c4d5-e379f392a23f"
      },
      "outputs": [
        {
          "output_type": "stream",
          "name": "stdout",
          "text": [
            "min degree : 1\n",
            "max degree : 65\n",
            "mean degree : 5.264351523742027\n"
          ]
        }
      ],
      "source": [
        "print(\"min degree :\",min(degree_sequence))\n",
        "print(\"max degree :\",max(degree_sequence))\n",
        "print(\"mean degree :\",np.mean(degree_sequence))"
      ]
    },
    {
      "cell_type": "markdown",
      "id": "67776374",
      "metadata": {
        "id": "67776374"
      },
      "source": [
        "############# Task 4"
      ]
    },
    {
      "cell_type": "code",
      "execution_count": null,
      "id": "487f3fb7",
      "metadata": {
        "lines_to_next_cell": 2,
        "colab": {
          "base_uri": "https://localhost:8080/",
          "height": 534
        },
        "id": "487f3fb7",
        "outputId": "484e5e4f-8ce2-47a0-ea7b-8dbe4693e45c"
      },
      "outputs": [
        {
          "output_type": "execute_result",
          "data": {
            "text/plain": [
              "[<matplotlib.lines.Line2D at 0x7ffab9d2b610>]"
            ]
          },
          "metadata": {},
          "execution_count": 44
        },
        {
          "output_type": "display_data",
          "data": {
            "image/png": "[encoded data removed]",
            "text/plain": [
              "<Figure size 432x288 with 1 Axes>"
            ]
          },
          "metadata": {
            "needs_background": "light"
          }
        },
        {
          "output_type": "display_data",
          "data": {
            "image/png": "[encoded data removed]",
            "text/plain": [
              "<Figure size 432x288 with 1 Axes>"
            ]
          },
          "metadata": {
            "needs_background": "light"
          }
        }
      ],
      "source": [
        "degree_hist = nx.degree_histogram(G)\n",
        "X = np.arange(0,66,1)\n",
        "plt.plot(X,degree_hist)\n",
        "plt.figure()\n",
        "plt.loglog(X,degree_hist)"
      ]
    },
    {
      "cell_type": "markdown",
      "id": "9e018f2e",
      "metadata": {
        "id": "9e018f2e"
      },
      "source": [
        "############# Task 5"
      ]
    },
    {
      "cell_type": "code",
      "source": [
        "print(\"global transitivity :\",nx.transitivity(G))"
      ],
      "metadata": {
        "colab": {
          "base_uri": "https://localhost:8080/"
        },
        "id": "-4i7zkMtpwrW",
        "outputId": "0caaace2-b5e6-43d0-a653-bf4176e7c8f6"
      },
      "id": "-4i7zkMtpwrW",
      "execution_count": null,
      "outputs": [
        {
          "output_type": "stream",
          "name": "stdout",
          "text": [
            "global transitivity : 0.2839996525875546\n"
          ]
        }
      ]
    },
    {
      "cell_type": "code",
      "source": [
        "G.edges('1')"
      ],
      "metadata": {
        "colab": {
          "base_uri": "https://localhost:8080/"
        },
        "id": "fYCkJY7wgOhc",
        "outputId": "92828a33-ff3a-4371-d4a3-d9d5af0e281b"
      },
      "id": "fYCkJY7wgOhc",
      "execution_count": 26,
      "outputs": [
        {
          "output_type": "execute_result",
          "data": {
            "text/plain": [
              "EdgeDataView([('1', '20692'), ('1', '58592'), ('1', '5426')])"
            ]
          },
          "metadata": {},
          "execution_count": 26
        }
      ]
    },
    {
      "cell_type": "code",
      "source": [
        "#Question 7\n",
        "d_c1 = np.array([9,7])\n",
        "d_c2 = np.array([4,8,4])\n",
        "l_c1 = np.array([4,3])\n",
        "l_c2 = np.array([1,2,1])\n",
        "m12 = 7\n",
        "modul1 = sum(l_c1/m12-(d_c1/2/m12)**2)\n",
        "modul2 = sum(l_c2/m12-(d_c2/2/m12)**2)\n",
        "print(\"Modularity of clustering a :\",modul1)\n",
        "print(\"Modularity of clustering b :\",modul2)"
      ],
      "metadata": {
        "colab": {
          "base_uri": "https://localhost:8080/"
        },
        "id": "g5QIWwUkqZQ_",
        "outputId": "bf4c9d6d-ee3b-4f33-b35e-6b844f856293"
      },
      "id": "g5QIWwUkqZQ_",
      "execution_count": 6,
      "outputs": [
        {
          "output_type": "stream",
          "name": "stdout",
          "text": [
            "Modularity of clustering a : 0.3367346938775509\n",
            "Modularity of clustering b : 0.0816326530612245\n"
          ]
        }
      ]
    }
  ],
  "metadata": {
    "jupytext": {
      "cell_metadata_filter": "-all",
      "main_language": "python",
      "notebook_metadata_filter": "-all"
    },
    "colab": {
      "name": "code_lab_exploration.ipynb",
      "provenance": []
    },
    "language_info": {
      "name": "python"
    },
    "kernelspec": {
      "name": "python3",
      "display_name": "Python 3"
    }
  },
  "nbformat": 4,
  "nbformat_minor": 5
}