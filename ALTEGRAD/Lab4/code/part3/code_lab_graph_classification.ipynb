{
  "cells": [
    {
      "cell_type": "code",
      "execution_count": null,
      "id": "83d5a9ca",
      "metadata": {
        "id": "83d5a9ca"
      },
      "outputs": [],
      "source": [
        "\"\"\"\n",
        "Graph Mining - ALTEGRAD - Dec 2021\n",
        "\"\"\""
      ]
    },
    {
      "cell_type": "code",
      "execution_count": 1,
      "id": "762d53b3",
      "metadata": {
        "id": "762d53b3"
      },
      "outputs": [],
      "source": [
        "import networkx as nx\n",
        "import numpy as np\n",
        "from sklearn.model_selection import train_test_split\n",
        "from sklearn.svm import SVC\n",
        "from sklearn.metrics import accuracy_score"
      ]
    },
    {
      "cell_type": "code",
      "execution_count": null,
      "id": "4caf0abe",
      "metadata": {
        "id": "4caf0abe"
      },
      "outputs": [],
      "source": [
        "############## Task 10\n",
        "# Generate simple dataset\n",
        "def create_dataset():\n",
        "    Gs = list(nx.path_graph(n) for n in range(3,103))+list(nx.cycle_graph(n) for n in range(3,103))\n",
        "    y = [0]*100+[1]*100\n",
        "\n",
        "    \n",
        "\n",
        "    return Gs, y"
      ]
    },
    {
      "cell_type": "code",
      "execution_count": null,
      "id": "0a8cbb23",
      "metadata": {
        "lines_to_next_cell": 1,
        "id": "0a8cbb23"
      },
      "outputs": [],
      "source": [
        "Gs, y = create_dataset()\n",
        "G_train, G_test, y_train, y_test = train_test_split(Gs, y, test_size=0.1)"
      ]
    },
    {
      "cell_type": "code",
      "execution_count": null,
      "id": "ef01c286",
      "metadata": {
        "id": "ef01c286"
      },
      "outputs": [],
      "source": [
        "# Compute the shortest path kernel\n",
        "def shortest_path_kernel(Gs_train, Gs_test):    \n",
        "    all_paths = dict()\n",
        "    sp_counts_train = dict()\n",
        "    \n",
        "    for i,G in enumerate(Gs_train):\n",
        "        sp_lengths = dict(nx.shortest_path_length(G))\n",
        "        sp_counts_train[i] = dict()\n",
        "        nodes = G.nodes()\n",
        "        for v1 in nodes:\n",
        "            for v2 in nodes:\n",
        "                if v2 in sp_lengths[v1]:\n",
        "                    length = sp_lengths[v1][v2]\n",
        "                    if length in sp_counts_train[i]:\n",
        "                        sp_counts_train[i][length] += 1\n",
        "                    else:\n",
        "                        sp_counts_train[i][length] = 1\n",
        "\n",
        "                    if length not in all_paths:\n",
        "                        all_paths[length] = len(all_paths)\n",
        "                        \n",
        "    sp_counts_test = dict()\n",
        "\n",
        "    for i,G in enumerate(Gs_test):\n",
        "        sp_lengths = dict(nx.shortest_path_length(G))\n",
        "        sp_counts_test[i] = dict()\n",
        "        nodes = G.nodes()\n",
        "        for v1 in nodes:\n",
        "            for v2 in nodes:\n",
        "                if v2 in sp_lengths[v1]:\n",
        "                    length = sp_lengths[v1][v2]\n",
        "                    if length in sp_counts_test[i]:\n",
        "                        sp_counts_test[i][length] += 1\n",
        "                    else:\n",
        "                        sp_counts_test[i][length] = 1\n",
        "\n",
        "                    if length not in all_paths:\n",
        "                        all_paths[length] = len(all_paths)\n",
        "\n",
        "    phi_train = np.zeros((len(G_train), len(all_paths)))\n",
        "    for i in range(len(G_train)):\n",
        "        for length in sp_counts_train[i]:\n",
        "            phi_train[i,all_paths[length]] = sp_counts_train[i][length]\n",
        "    \n",
        "  \n",
        "    phi_test = np.zeros((len(Gs_test), len(all_paths)))\n",
        "    for i in range(len(Gs_test)):\n",
        "        for length in sp_counts_test[i]:\n",
        "            phi_test[i,all_paths[length]] = sp_counts_test[i][length]\n",
        "\n",
        "    K_train = np.dot(phi_train, phi_train.T)\n",
        "    K_test = np.dot(phi_test, phi_train.T)\n",
        "\n",
        "    return K_train, K_test"
      ]
    },
    {
      "cell_type": "code",
      "execution_count": null,
      "id": "30daa674",
      "metadata": {
        "id": "30daa674"
      },
      "outputs": [],
      "source": [
        ""
      ]
    },
    {
      "cell_type": "code",
      "execution_count": null,
      "id": "83476182",
      "metadata": {
        "lines_to_next_cell": 2,
        "id": "83476182"
      },
      "outputs": [],
      "source": [
        "############## Task 11\n",
        "# Compute the graphlet kernel\n",
        "def graphlet_kernel(Gs_train, Gs_test, n_samples=200):\n",
        "    graphlets = [nx.Graph(), nx.Graph(), nx.Graph(), nx.Graph()]\n",
        "    \n",
        "    graphlets[0].add_nodes_from(range(3))\n",
        "\n",
        "    graphlets[1].add_nodes_from(range(3))\n",
        "    graphlets[1].add_edge(0,1)\n",
        "\n",
        "    graphlets[2].add_nodes_from(range(3))\n",
        "    graphlets[2].add_edge(0,1)\n",
        "    graphlets[2].add_edge(1,2)\n",
        "\n",
        "    graphlets[3].add_nodes_from(range(3))\n",
        "    graphlets[3].add_edge(0,1)\n",
        "    graphlets[3].add_edge(1,2)\n",
        "    graphlets[3].add_edge(0,2)\n",
        "\n",
        "    \n",
        "    phi_train = np.zeros((len(G_train), 4))\n",
        "    \n",
        "    ##################\n",
        "    # your code here #\n",
        "    ##################\n",
        "\n",
        "\n",
        "    phi_test = np.zeros((len(G_test), 4))\n",
        "    \n",
        "    ##################\n",
        "    # your code here #\n",
        "    ##################\n",
        "\n",
        "    K_train = np.dot(phi_train, phi_train.T)\n",
        "    K_test = np.dot(phi_test, phi_train.T)\n",
        "\n",
        "    return K_train, K_test"
      ]
    },
    {
      "cell_type": "code",
      "execution_count": null,
      "id": "51dbf6ad",
      "metadata": {
        "id": "51dbf6ad"
      },
      "outputs": [],
      "source": [
        "K_train_sp, K_test_sp = shortest_path_kernel(G_train, G_test)"
      ]
    },
    {
      "cell_type": "code",
      "execution_count": null,
      "id": "32d4d6ae",
      "metadata": {
        "id": "32d4d6ae"
      },
      "outputs": [],
      "source": [
        ""
      ]
    },
    {
      "cell_type": "markdown",
      "id": "a334942d",
      "metadata": {
        "id": "a334942d"
      },
      "source": [
        "############# Task 12"
      ]
    },
    {
      "cell_type": "markdown",
      "id": "a7704ec6",
      "metadata": {
        "id": "a7704ec6"
      },
      "source": [
        "#################\n",
        "your code here #\n",
        "#################"
      ]
    },
    {
      "cell_type": "code",
      "execution_count": null,
      "id": "0a228289",
      "metadata": {
        "id": "0a228289"
      },
      "outputs": [],
      "source": [
        ""
      ]
    },
    {
      "cell_type": "markdown",
      "id": "b1679e06",
      "metadata": {
        "id": "b1679e06"
      },
      "source": [
        "############# Task 13"
      ]
    },
    {
      "cell_type": "markdown",
      "id": "5a30ee7e",
      "metadata": {
        "id": "5a30ee7e"
      },
      "source": [
        "#################\n",
        "your code here #\n",
        "#################"
      ]
    }
  ],
  "metadata": {
    "jupytext": {
      "cell_metadata_filter": "-all",
      "main_language": "python",
      "notebook_metadata_filter": "-all"
    },
    "colab": {
      "name": "code_lab_graph_classification.ipynb",
      "provenance": [],
      "collapsed_sections": []
    },
    "language_info": {
      "name": "python"
    },
    "kernelspec": {
      "name": "python3",
      "display_name": "Python 3"
    }
  },
  "nbformat": 4,
  "nbformat_minor": 5
}